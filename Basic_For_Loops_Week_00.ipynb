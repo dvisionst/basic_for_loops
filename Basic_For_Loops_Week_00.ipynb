{
  "nbformat": 4,
  "nbformat_minor": 0,
  "metadata": {
    "colab": {
      "name": "Basic_For_Loops_Week_00.ipynb",
      "provenance": []
    },
    "kernelspec": {
      "name": "python3",
      "display_name": "Python 3"
    },
    "language_info": {
      "name": "python"
    }
  },
  "cells": [
    {
      "cell_type": "code",
      "execution_count": null,
      "metadata": {
        "id": "fDBNadlHfim5"
      },
      "outputs": [],
      "source": [
        "#1. Basic - Print all integers from 0 to 150. Hint: use a for loop and rang\n",
        "for num in range(0, 151):\n",
        "  print(num)\n"
      ]
    },
    {
      "cell_type": "code",
      "source": [
        "#2. Multiples of Five (Optional) - Print all the multiples of 5 from 5 to 1,000\n",
        "for num in range(5, 1001, 5):\n",
        "  print(num)\n"
      ],
      "metadata": {
        "id": "Hn662McSfp5i"
      },
      "execution_count": null,
      "outputs": []
    },
    {
      "cell_type": "code",
      "source": [
        "#3. Counting, the Dojo Way(Optional) - Print integers 1 to 100. If divisible by 5, print \"Coding\" instead. If divisible by 10, print \"Coding Dojo\"\n",
        "for num in range(1, 101):\n",
        "  if num % 10 == 0:\n",
        "    print(\"Coding Dojo\")\n",
        "  elif num % 5 == 0:\n",
        "    print(\"Coding\")\n",
        "  else:\n",
        "    print(num)"
      ],
      "metadata": {
        "id": "l6YxSA_1g82u"
      },
      "execution_count": null,
      "outputs": []
    },
    {
      "cell_type": "code",
      "source": [
        "#4. Whoa. That Sucker's Huge(Optional) - Add odd integers from 0 to 500,000, and print the final sum.\n",
        "total = 0\n",
        "for num in range(0, 500001):\n",
        "  if num % 2 != 0:\n",
        "    total += num\n",
        "print(total)"
      ],
      "metadata": {
        "id": "ksVftHWwhu18"
      },
      "execution_count": null,
      "outputs": []
    },
    {
      "cell_type": "code",
      "source": [
        "#5. Countdown by Fours(Optional) - Print positive numbers starting at 2018, counting down by fours\n",
        "for num in range(2018, -1, -4):\n",
        "  print(num)"
      ],
      "metadata": {
        "id": "8ooCI8lvihnl"
      },
      "execution_count": null,
      "outputs": []
    },
    {
      "cell_type": "code",
      "source": [
        "#6. Flexible Counter (Optional) - Set three variables: lowNum, highNum, mult. Starting at lowNum and going through highNum, print only the integers that are a multiple of mult. \n",
        "#For example, if lowNum=2, highNum=9, and mult=3, the loop should print 3, 6, 9 (on successive lines)\n",
        "\n",
        "lowNum = 2\n",
        "highNum = 23\n",
        "mult = 4\n",
        "\n",
        "for num in range(lowNum, highNum + 1):\n",
        "  if num % mult == 0:\n",
        "    print(num)"
      ],
      "metadata": {
        "id": "TnInx3-Qj3f2"
      },
      "execution_count": null,
      "outputs": []
    }
  ]
}